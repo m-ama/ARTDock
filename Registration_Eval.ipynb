{
 "cells": [
  {
   "cell_type": "markdown",
   "metadata": {},
   "source": [
    "# Registration Experimentation\n",
    "This Jupyter Notebook evaluates various registration techniques in the development of an animal study pipeline. Babak Ardekani's ART toolset will be employed here with various parameters."
   ]
  },
  {
   "cell_type": "markdown",
   "metadata": {},
   "source": [
    "## Import Modules\n",
    "This section imports various Python modules to process and analyze data for evaluation. The modules being used are responsible for the following functions:\n",
    "1. subprocess: execute system commands\n",
    "2. os: manipulate OS-related things\n",
    "4. numpy: manage and manipulate nifti images as arrays\n",
    "3. nibabel: read nifti files\n",
    "4. matplotlib: visualize nifti images"
   ]
  },
  {
   "cell_type": "code",
   "execution_count": 3,
   "metadata": {},
   "outputs": [],
   "source": [
    "import subprocess\n",
    "import os\n",
    "import os.path as op\n",
    "import numpy as np\n",
    "import nibabel as nib\n",
    "import matplotlib.pyplot as plt"
   ]
  },
  {
   "cell_type": "markdown",
   "metadata": {},
   "source": [
    "## Docker Configuration\n",
    "Please configure this section to match your Docker image for ARTDock."
   ]
  },
  {
   "cell_type": "code",
   "execution_count": 4,
   "metadata": {},
   "outputs": [],
   "source": [
    "docker_tag = 'artdock:latest'\n",
    "docker_mount = '/Users/sid/Downloads/Mouse/data'\n",
    "docker_mountpoint = '/data'"
   ]
  },
  {
   "cell_type": "markdown",
   "metadata": {},
   "source": [
    "## Path to Files\n",
    "Define path to various files. There are two types of files to consider:\n",
    "1. Target: template to register images to\n",
    "2. Moving: image that will be registered to template\n",
    "\n",
    "Please enter these paths relative to `docker_mount` variable."
   ]
  },
  {
   "cell_type": "code",
   "execution_count": 5,
   "metadata": {},
   "outputs": [],
   "source": [
    "# Target image\n",
    "trgPath = '/Users/sid/Downloads/Mouse/data/same mice_Time1,2/w1t1m8/ACQ_BRUKER_PVMTurboRARE-T2X4P1.nii'\n",
    "\n",
    "# Moving image\n",
    "movPath = '/Users/sid/Downloads/Mouse/data/same mice_Time1,2/w1t2m8/ACQ_BRUKER_PVMTurboRARE-T2X4P1.nii'\n",
    "\n",
    "# Output Path\n",
    "outPath = '/Users/sid/Downloads/Mouse/data/out'"
   ]
  },
  {
   "cell_type": "markdown",
   "metadata": {},
   "source": [
    "### Build Docker Paths\n",
    "This section uses paths defined for Docker and files to construct mountpounts for inputs and outputs such that they appear to be mounted within a Docker container."
   ]
  },
  {
   "cell_type": "code",
   "execution_count": 33,
   "metadata": {},
   "outputs": [
    {
     "name": "stdout",
     "output_type": "stream",
     "text": [
      "/data/same mice_Time1,2/w1t1m8/ACQ_BRUKER_PVMTurboRARE-T2X4P1.nii\n",
      "/data/same mice_Time1,2/w1t2m8/ACQ_BRUKER_PVMTurboRARE-T2X4P1.nii\n",
      "/data/out\n"
     ]
    }
   ],
   "source": [
    "# Separate docker mount path\n",
    "dockerMountList = [i for i in docker_mount.split(op.sep) if i]\n",
    "\n",
    "# Separate path to target\n",
    "trgPathList = [i for i in trgPath.split(op.sep) if i]\n",
    "trgPathList = [x for x in trgPathList if x not in dockerMountList]\n",
    "trgPath = op.sep.join(trgPathList)\n",
    "trgPath = op.join(docker_mountpoint, trgPath)\n",
    "\n",
    "# Seperate path to moving\n",
    "movPathList = [i for i in movPath.split(op.sep) if i]\n",
    "movPathList = [x for x in movPathList if x not in dockerMountList]\n",
    "movPath = op.sep.join(movPathList)\n",
    "movPath = op.join(docker_mountpoint, movPath)\n",
    "\n",
    "# Separate path to out\n",
    "outPathList = [i for i in outPath.split(op.sep) if i]\n",
    "outPathList = [x for x in outPathList if x not in dockerMountList]\n",
    "outPath = op.sep.join(outPathList)\n",
    "outPath = op.join(docker_mountpoint, outPath)\n",
    "\n",
    "print(trgPath)\n",
    "print(movPath)\n",
    "print(outPath)"
   ]
  },
  {
   "cell_type": "markdown",
   "metadata": {},
   "source": [
    "## Execute Registration\n",
    "This section calls the ARTDock container and runs ART tools to register the moving image to target template."
   ]
  },
  {
   "cell_type": "code",
   "execution_count": 51,
   "metadata": {},
   "outputs": [
    {
     "name": "stdout",
     "output_type": "stream",
     "text": [
      "Executing command: docker run -t --rm -v /Users/sid/Downloads/Mouse/data:/data artdock:latest -v -iter 10 -A -o /data/out/output.nii -sub /data/same mice_Time1,2/w1t2m8/ACQ_BRUKER_PVMTurboRARE-T2X4P1.nii -trg /data/same mice_Time1,2/w1t1m8/ACQ_BRUKER_PVMTurboRARE-T2X4P1.nii\n"
     ]
    }
   ],
   "source": [
    "# Construct docker command\n",
    "reg_arg = ['docker', 'run', '-t', '--rm']\n",
    "# Manage volume mounting\n",
    "reg_arg.extend(['-v', docker_mount + ':' + docker_mountpoint])\n",
    "# Execute docker_tag\n",
    "reg_arg.append(docker_tag)\n",
    "# Build processing command\n",
    "# reg_arg.extend(['3dwarper'])\n",
    "reg_arg.extend(['-v'])\n",
    "reg_arg.extend(['-iter', '10'])\n",
    "reg_arg.extend(['-A'])\n",
    "reg_arg.extend(['-o', op.join(outPath, 'output.nii')])\n",
    "reg_arg.extend(['-sub', movPath])\n",
    "reg_arg.extend(['-trg', trgPath])\n",
    "print('Executing command: ' + ' '.join(reg_arg))\n",
    "completion = subprocess.run(reg_arg)\n",
    "if completion.returncode != 0:\n",
    "    raise Exception('Failed to run docker image {}'.format(docker_tag))"
   ]
  }
 ],
 "metadata": {
  "kernelspec": {
   "display_name": "Python 3",
   "language": "python",
   "name": "python3"
  },
  "language_info": {
   "codemirror_mode": {
    "name": "ipython",
    "version": 3
   },
   "file_extension": ".py",
   "mimetype": "text/x-python",
   "name": "python",
   "nbconvert_exporter": "python",
   "pygments_lexer": "ipython3",
   "version": "3.7.4"
  }
 },
 "nbformat": 4,
 "nbformat_minor": 2
}
